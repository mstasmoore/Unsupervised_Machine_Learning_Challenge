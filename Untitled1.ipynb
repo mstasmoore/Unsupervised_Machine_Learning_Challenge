{
 "cells": [
  {
   "cell_type": "code",
   "execution_count": null,
   "id": "7ad9b24f",
   "metadata": {},
   "outputs": [],
   "source": [
    "!wget https://resources.lendingclub.com/LoanStats_2019Q1.csv.zip\n",
    "!wget https://resources.lendingclub.com/LoanStats_2019Q2.csv.zip\n",
    "!wget https://resources.lendingclub.com/LoanStats_2019Q3.csv.zip\n",
    "!wget https://resources.lendingclub.com/LoanStats_2019Q4.csv.zip\n",
    "!wget https://resources.lendingclub.com/LoanStats_2020Q1.csv.zip"
   ]
  }
 ],
 "metadata": {
  "kernelspec": {
   "display_name": "Python 3 (ipykernel)",
   "language": "python",
   "name": "python3"
  },
  "language_info": {
   "codemirror_mode": {
    "name": "ipython",
    "version": 3
   },
   "file_extension": ".py",
   "mimetype": "text/x-python",
   "name": "python",
   "nbconvert_exporter": "python",
   "pygments_lexer": "ipython3",
   "version": "3.9.7"
  }
 },
 "nbformat": 4,
 "nbformat_minor": 5
}
